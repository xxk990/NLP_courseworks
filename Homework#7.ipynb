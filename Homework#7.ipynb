{
 "cells": [
  {
   "cell_type": "markdown",
   "metadata": {},
   "source": [
    "### Homework#7\n",
    "<br>\n",
    "Assignment Group 12\n",
    "<br>\n",
    "Fangzhou Liu\n",
    "<br>\n",
    "Ke Xu"
   ]
  },
  {
   "cell_type": "markdown",
   "metadata": {},
   "source": [
    "## Problem 1"
   ]
  },
  {
   "cell_type": "markdown",
   "metadata": {},
   "source": [
    "These are the words have 4 pos(NOUN VERB ADJECTIVE ADVERB):  \n",
    "'Back'   \n",
    "'Brodside'    \n",
    "'Clean'  \n",
    "'Clear'  "
   ]
  },
  {
   "cell_type": "code",
   "execution_count": 174,
   "metadata": {},
   "outputs": [
    {
     "data": {
      "text/plain": [
       "[Synset('back.n.01'),\n",
       " Synset('rear.n.05'),\n",
       " Synset('back.n.03'),\n",
       " Synset('back.n.04'),\n",
       " Synset('spinal_column.n.01'),\n",
       " Synset('binding.n.05'),\n",
       " Synset('back.n.07'),\n",
       " Synset('back.n.08'),\n",
       " Synset('back.n.09'),\n",
       " Synset('back.v.01'),\n",
       " Synset('back.v.02'),\n",
       " Synset('second.v.01'),\n",
       " Synset('back.v.04'),\n",
       " Synset('back.v.05'),\n",
       " Synset('back.v.06'),\n",
       " Synset('bet_on.v.01'),\n",
       " Synset('back.v.08'),\n",
       " Synset('back.v.09'),\n",
       " Synset('back.v.10'),\n",
       " Synset('back.a.01'),\n",
       " Synset('back.s.02'),\n",
       " Synset('back.s.03'),\n",
       " Synset('back.r.01'),\n",
       " Synset('back.r.02'),\n",
       " Synset('back.r.03'),\n",
       " Synset('back.r.04'),\n",
       " Synset('back.r.05'),\n",
       " Synset('back.r.06')]"
      ]
     },
     "execution_count": 174,
     "metadata": {},
     "output_type": "execute_result"
    }
   ],
   "source": [
    "from nltk.corpus import wordnet\n",
    "from nltk.corpus import wordnet as wn\n",
    "wn.synsets('back')"
   ]
  },
  {
   "cell_type": "markdown",
   "metadata": {},
   "source": [
    "'Back' will be used more as NOUN and VERB  \n",
    "\n",
    "(n) back (the side that goes last or is not normally seen)   \n",
    "he wrote the date on the back of the photograph  \n",
    "\n",
    " (n) back (the part of something that is furthest from the normal viewer)  \n",
    " \"he stood at the back of the stage\";  \n",
    " \"it was hidden in the back of the store\"  \n",
    "\n",
    "(v) back (cause to travel backward)   \n",
    "\"back the car into the parking spot\"  \n",
    "\n",
    "(adj) back (of an earlier date)   \n",
    "\"back issues of the magazine\"  \n",
    "  \n",
    "(adv) back (in or to or toward a former location)   \n",
    "\"she went back to her parents' house\"  \n",
    "\n",
    "(adv) back (in or to or toward an original condition)   \n",
    "\"he went back to sleep\"  \n"
   ]
  },
  {
   "cell_type": "code",
   "execution_count": 175,
   "metadata": {},
   "outputs": [
    {
     "data": {
      "text/plain": [
       "[Synset('circular.n.01'),\n",
       " Synset('tirade.n.01'),\n",
       " Synset('broadside.n.03'),\n",
       " Synset('broadside.n.04'),\n",
       " Synset('broadside.n.05'),\n",
       " Synset('broadside.v.01'),\n",
       " Synset('broadside.s.01'),\n",
       " Synset('broadside.r.01')]"
      ]
     },
     "execution_count": 175,
     "metadata": {},
     "output_type": "execute_result"
    }
   ],
   "source": [
    "wn.synsets('BROADSIDE')"
   ]
  },
  {
   "cell_type": "markdown",
   "metadata": {},
   "source": [
    "'Broadside' will be used more as NOUN:  \n",
    "Some Definition:  \n",
    "1.an advertisement (usually printed on a page or in a leaflet) intended for wide distribution;  \n",
    "2.a speech of violent denunciation;  \n",
    "3.all of the armament that is fired from one side of a warship  \n",
    "4.the whole side of a vessel from stem to stern;  \n",
    "5.the simultaneous firing of all the armament on one side of a warship  \n",
    "Some Example:  \n",
    "'he mailed the circular to all subscribers'  \n",
    "'the ship was broadside to the dock'  "
   ]
  },
  {
   "cell_type": "code",
   "execution_count": 176,
   "metadata": {},
   "outputs": [
    {
     "data": {
      "text/plain": [
       "[Synset('clean_and_jerk.n.01'),\n",
       " Synset('clean.v.01'),\n",
       " Synset('clean.v.02'),\n",
       " Synset('houseclean.v.01'),\n",
       " Synset('cleanse.v.01'),\n",
       " Synset('clean.v.05'),\n",
       " Synset('clean.v.06'),\n",
       " Synset('clean.v.07'),\n",
       " Synset('clean.v.08'),\n",
       " Synset('scavenge.v.04'),\n",
       " Synset('clean.v.10'),\n",
       " Synset('clean.a.01'),\n",
       " Synset('clean.s.02'),\n",
       " Synset('clean.s.03'),\n",
       " Synset('clean.s.04'),\n",
       " Synset('clean.s.05'),\n",
       " Synset('clean.a.06'),\n",
       " Synset('clean.a.07'),\n",
       " Synset('clean.a.08'),\n",
       " Synset('uninfected.s.01'),\n",
       " Synset('clean.s.10'),\n",
       " Synset('clean.s.11'),\n",
       " Synset('blank.s.01'),\n",
       " Synset('clean.s.13'),\n",
       " Synset('clean.s.14'),\n",
       " Synset('clean.s.15'),\n",
       " Synset('clean.s.16'),\n",
       " Synset('clean.s.17'),\n",
       " Synset('clean.s.18'),\n",
       " Synset('clean.r.01'),\n",
       " Synset('fairly.r.03')]"
      ]
     },
     "execution_count": 176,
     "metadata": {},
     "output_type": "execute_result"
    }
   ],
   "source": [
    "wn.synsets('CLEAN')"
   ]
  },
  {
   "cell_type": "markdown",
   "metadata": {},
   "source": [
    "'clean' will be used more as VERB and ADJECTIVE:  \n",
    "Some definition as VERB:  \n",
    "1.make clean by removing dirt, filth, or unwanted substances from;  \n",
    "2.remove unwanted substances from, such as feathers or pits;   \n",
    "3.clean and tidy up the house;   \n",
    "4.clean one’s body or parts thereof, as by washing;   \n",
    "5.be cleanable;  \n",
    "Some Examples:  \n",
    "'The dentist cleaned my teeth'  \n",
    "'clean up before you see your grandparents'  \n",
    "as ADJECTIVE:  \n",
    "1.free from dirt or impurities; or having clean habits;  \n",
    "2.free of restrictions or qualifications;   \n",
    "3.(of sound or color) free from anything that dulls or dims;   \n",
    "4.(of a record) having no marks of discredit or offense;  \n",
    "Some Examples:  \n",
    "'children with clean shining faces'  \n",
    "'cats are clean animals'  \n",
    "'a clean bill of health'  "
   ]
  },
  {
   "cell_type": "code",
   "execution_count": 181,
   "metadata": {},
   "outputs": [
    {
     "data": {
      "text/plain": [
       "[Synset('clear.n.01'),\n",
       " Synset('open.n.01'),\n",
       " Synset('unclutter.v.01'),\n",
       " Synset('clear.v.02'),\n",
       " Synset('clear_up.v.04'),\n",
       " Synset('authorize.v.01'),\n",
       " Synset('clear.v.05'),\n",
       " Synset('pass.v.09'),\n",
       " Synset('clear.v.07'),\n",
       " Synset('clear.v.08'),\n",
       " Synset('clear.v.09'),\n",
       " Synset('clear.v.10'),\n",
       " Synset('clear.v.11'),\n",
       " Synset('clear.v.12'),\n",
       " Synset('net.v.02'),\n",
       " Synset('net.v.01'),\n",
       " Synset('gain.v.08'),\n",
       " Synset('clear.v.16'),\n",
       " Synset('clear.v.17'),\n",
       " Synset('acquit.v.01'),\n",
       " Synset('clear.v.19'),\n",
       " Synset('clear.v.20'),\n",
       " Synset('clear.v.21'),\n",
       " Synset('clear.v.22'),\n",
       " Synset('clear.v.23'),\n",
       " Synset('clear.v.24'),\n",
       " Synset('clear.a.01'),\n",
       " Synset('clear.s.02'),\n",
       " Synset('clear.s.03'),\n",
       " Synset('clear.a.04'),\n",
       " Synset('clear.s.05'),\n",
       " Synset('clear.s.06'),\n",
       " Synset('clean.s.03'),\n",
       " Synset('clear.s.08'),\n",
       " Synset('clear.s.09'),\n",
       " Synset('well-defined.a.02'),\n",
       " Synset('clear.a.11'),\n",
       " Synset('clean.s.02'),\n",
       " Synset('clear.s.13'),\n",
       " Synset('clear.s.14'),\n",
       " Synset('clear.s.15'),\n",
       " Synset('absolved.s.01'),\n",
       " Synset('clear.s.17'),\n",
       " Synset('clear.r.01'),\n",
       " Synset('clearly.r.04')]"
      ]
     },
     "execution_count": 181,
     "metadata": {},
     "output_type": "execute_result"
    }
   ],
   "source": [
    "wn.synsets('CLEAR')"
   ]
  },
  {
   "cell_type": "markdown",
   "metadata": {},
   "source": [
    "'clean' will be used more as VERB and ADJECTIVE:  \n",
    "(n) clear (the state of being free of suspicion)   \n",
    "\"investigation showed that he was in the clear\"  \n",
    "\n",
    "(n) clear (a clear or unobstructed space or expanse of land or water)   \n",
    "\"finally broke out of the forest into the clear\"  \n",
    "\n",
    "(v) clear (rid of obstructions)   \n",
    "\"Clear your desk\"  \n",
    "\n",
    "(v) clear (make a way or path by removing objects)   \n",
    "\"Clear a path through the dense forest\"  \n",
    "\n",
    " (v)  clear (become clear)  \n",
    " \"The sky cleared after the storm\"  \n",
    "\n",
    "(adj) clear (readily apparent to the mind)   \n",
    "\"a clear and present danger\";   \n",
    "\"a clear explanation\"; \"a clear case of murder\";   \n",
    "\"a clear indication that she was angry\";  \n",
    " \"gave us a clear idea of human nature\"  \n",
    "\n",
    "(adj) clear (free from confusion or doubt)   \n",
    "\"a complex problem requiring a clear head\";  \n",
    " \"not clear about what is expected of us\"  \n",
    "\n",
    " (adv) clear (completely)   \n",
    "\"read the book clear to the end\";  \n",
    " \"slept clear through the night\";   \n",
    "\"there were open fields clear to the horizon\"  \n",
    "\n",
    "(adv) clear (in an easily perceptible manner)   \n",
    "\"could be seen clear under the microscope\";  \n",
    " \"She cried loud and clear\"  \n"
   ]
  },
  {
   "cell_type": "markdown",
   "metadata": {},
   "source": [
    "Rules:\n",
    "1.\tNouns always appears after “the”, “a”, adjective, verb, or adverb, and usually there is no other nouns behind it.  \n",
    "2.\tAdjective may appear after “the”, “a”, but usually there is nouns behind it.  \n",
    "3.\tVerb always appears before nouns or \n",
    "4.\tAdverb usually appears after verb and before nouns.\n"
   ]
  },
  {
   "cell_type": "markdown",
   "metadata": {},
   "source": [
    "## Problem 2"
   ]
  },
  {
   "cell_type": "markdown",
   "metadata": {},
   "source": [
    "### 12.1"
   ]
  },
  {
   "cell_type": "markdown",
   "metadata": {},
   "source": [
    "Convert CFG to CNF"
   ]
  },
  {
   "cell_type": "markdown",
   "metadata": {},
   "source": [
    "This CNF converter is from: https://github.com/RobMcH/CYK-Parser"
   ]
  },
  {
   "cell_type": "code",
   "execution_count": 206,
   "metadata": {},
   "outputs": [],
   "source": [
    "# Global dictionary used for storing the rules.\n",
    "RULE_DICT = {}\n",
    "\n",
    "\n",
    "def read_grammar(grammar_file):\n",
    "    \"\"\"\n",
    "    Reads in the given grammar file and splits it into separate lists for each rule.\n",
    "    :param grammar_file: the grammar file to read in.\n",
    "    :return: the list of rules.\n",
    "    \"\"\"\n",
    "    with open(grammar_file) as cfg:\n",
    "        lines = cfg.readlines()\n",
    "    return [x.replace(\"->\", \"\").split() for x in lines]\n",
    "\n",
    "\n",
    "def add_rule(rule):\n",
    "    \"\"\"\n",
    "    Adds a rule to the dictionary of lists of rules.\n",
    "    :param rule: the rule to add to the dict.\n",
    "    \"\"\"\n",
    "    global RULE_DICT\n",
    "\n",
    "    if rule[0] not in RULE_DICT:\n",
    "        RULE_DICT[rule[0]] = []\n",
    "    RULE_DICT[rule[0]].append(rule[1:])\n",
    "\n",
    "\n",
    "def convert_grammar(grammar):\n",
    "    \"\"\"\n",
    "        Converts a context-free grammar in the form of\n",
    "        S -> NP VP\n",
    "        NP -> Det ADV N\n",
    "        and so on into a chomsky normal form of that grammar. After the conversion rules have either\n",
    "        exactly one terminal symbol or exactly two non terminal symbols on its right hand side.\n",
    "        Therefore some new non terminal symbols might be created. These non terminal symbols are\n",
    "        named like the symbol they replaced with an appended index.\n",
    "    :param grammar: the CFG.\n",
    "    :return: the given grammar converted into CNF.\n",
    "    \"\"\"\n",
    "\n",
    "    # Remove all the productions of the type A -> X B C or A -> B a.\n",
    "    global RULE_DICT\n",
    "    unit_productions, result = [], []\n",
    "    res_append = result.append\n",
    "    index = 0\n",
    "\n",
    "    for rule in grammar:\n",
    "        new_rules = []\n",
    "        if len(rule) == 2 and rule[1][0] != \"'\":\n",
    "            # Rule is in form A -> X, so back it up for later and continue with the next rule.\n",
    "            unit_productions.append(rule)\n",
    "            add_rule(rule)\n",
    "            continue\n",
    "        elif len(rule) > 2:\n",
    "            # Rule is in form A -> X B C or A -> X a.\n",
    "            terminals = [(item, i) for i, item in enumerate(rule) if item[0] == \"'\"]\n",
    "            if terminals:\n",
    "                for item in terminals:\n",
    "                    # Create a new non terminal symbol and replace the terminal symbol with it.\n",
    "                    # The non terminal symbol derives the replaced terminal symbol.\n",
    "                    rule[item[1]] = f\"{rule[0]}{str(index)}\"\n",
    "                    new_rules += [f\"{rule[0]}{str(index)}\", item[0]]\n",
    "                index += 1\n",
    "            while len(rule) > 3:\n",
    "                new_rules += [f\"{rule[0]}{str(index)}\", rule[1], rule[2]]\n",
    "                rule = [rule[0]] + [f\"{rule[0]}{str(index)}\"] + rule[3:]\n",
    "                index += 1\n",
    "        # Adds the modified or unmodified (in case of A -> x i.e.) rules.\n",
    "        add_rule(rule)\n",
    "        res_append(rule)\n",
    "        if new_rules:\n",
    "            res_append(new_rules)\n",
    "    # Handle the unit productions (A -> X)\n",
    "    while unit_productions:\n",
    "        rule = unit_productions.pop()\n",
    "        if rule[1] in RULE_DICT:\n",
    "            for item in RULE_DICT[rule[1]]:\n",
    "                new_rule = [rule[0]] + item\n",
    "                if len(new_rule) > 2 or new_rule[1][0] == \"'\":\n",
    "                    res_append(new_rule)\n",
    "                else:\n",
    "                    unit_productions.append(new_rule)\n",
    "                add_rule(new_rule)\n",
    "    return result"
   ]
  },
  {
   "cell_type": "code",
   "execution_count": 207,
   "metadata": {},
   "outputs": [],
   "source": [
    "# the input gramma rule is L1 gramma from text book Figure 12.1\n",
    "sen = '''S -> NP VP \n",
    "S -> Aux NP VP \n",
    "S -> VP \n",
    "NP -> Pronoun \n",
    "NP -> ProperNoun \n",
    "NP -> Det Nominal \n",
    "Nominal -> Noun \n",
    "Nominal -> Nominal Noun\n",
    "Nominal -> Nominal PP\n",
    "VP -> Verb\n",
    "VP -> Verb NP\n",
    "VP -> Verb NP PP\n",
    "VP -> Verb PP\n",
    "VP -> VP PP\n",
    "PP -> Preposition NP\n",
    "Det -> 'that' 'this' 'the' 'a'\n",
    "Noun -> 'book' 'flight' 'meal' 'money'\n",
    "Verb -> 'book' 'include' 'prefer'\n",
    "Pronoun -> 'I' 'she' 'me'\n",
    "ProperNoun -> 'Houston' 'NWA'\n",
    "Aux -> 'does'\n",
    "Preposition -> 'from' 'to' 'on' 'near' 'through'\n",
    "'''\n",
    "f= open(\"gramma.txt\",\"w+\")\n",
    "f.write(sen)\n",
    "f.close()"
   ]
  },
  {
   "cell_type": "code",
   "execution_count": 208,
   "metadata": {},
   "outputs": [],
   "source": [
    "#convert it to CNF\n",
    "CNF = convert_grammar(read_grammar('gramma.txt'))"
   ]
  },
  {
   "cell_type": "code",
   "execution_count": 209,
   "metadata": {
    "scrolled": true
   },
   "outputs": [
    {
     "name": "stdout",
     "output_type": "stream",
     "text": [
      "['S', 'NP', 'VP']\n",
      "['S', 'S0', 'VP']\n",
      "['S0', 'Aux', 'NP']\n",
      "['NP', 'Det', 'Nominal']\n",
      "['Nominal', 'Nominal', 'Noun']\n",
      "['Nominal', 'Nominal', 'PP']\n",
      "['VP', 'Verb', 'NP']\n",
      "['VP', 'VP1', 'PP']\n",
      "['VP1', 'Verb', 'NP']\n",
      "['VP', 'Verb', 'PP']\n",
      "['VP', 'VP', 'PP']\n",
      "['PP', 'Preposition', 'NP']\n",
      "['Det', 'Det4', 'Det2']\n",
      "['Det2', \"'that'\", 'Det2', \"'this'\", 'Det2', \"'the'\", 'Det2', \"'a'\", 'Det3', 'Det2', 'Det2', 'Det4', 'Det3', 'Det2']\n",
      "['Noun', 'Noun7', 'Noun5']\n",
      "['Noun5', \"'book'\", 'Noun5', \"'flight'\", 'Noun5', \"'meal'\", 'Noun5', \"'money'\", 'Noun6', 'Noun5', 'Noun5', 'Noun7', 'Noun6', 'Noun5']\n",
      "['Verb', 'Verb9', 'Verb8']\n",
      "['Verb8', \"'book'\", 'Verb8', \"'include'\", 'Verb8', \"'prefer'\", 'Verb9', 'Verb8', 'Verb8']\n",
      "['Pronoun', 'Pronoun11', 'Pronoun10']\n",
      "['Pronoun10', \"'I'\", 'Pronoun10', \"'she'\", 'Pronoun10', \"'me'\", 'Pronoun11', 'Pronoun10', 'Pronoun10']\n",
      "['ProperNoun', 'ProperNoun12', 'ProperNoun12']\n",
      "['ProperNoun12', \"'Houston'\", 'ProperNoun12', \"'NWA'\"]\n",
      "['Aux', \"'does'\"]\n",
      "['Preposition', 'Preposition16', 'Preposition13']\n",
      "['Preposition13', \"'from'\", 'Preposition13', \"'to'\", 'Preposition13', \"'on'\", 'Preposition13', \"'near'\", 'Preposition13', \"'through'\", 'Preposition14', 'Preposition13', 'Preposition13', 'Preposition15', 'Preposition14', 'Preposition13', 'Preposition16', 'Preposition15', 'Preposition13']\n",
      "['VP', 'Verb9', 'Verb8']\n",
      "['Nominal', 'Noun7', 'Noun5']\n",
      "['NP', 'ProperNoun12', 'ProperNoun12']\n",
      "['NP', 'Pronoun11', 'Pronoun10']\n",
      "['S', 'Verb', 'NP']\n",
      "['S', 'VP1', 'PP']\n",
      "['S', 'Verb', 'PP']\n",
      "['S', 'VP', 'PP']\n",
      "['S', 'Verb9', 'Verb8']\n",
      "['S', 'Verb9', 'Verb8']\n"
     ]
    }
   ],
   "source": [
    "for i in CNF:\n",
    "    print(i)"
   ]
  },
  {
   "cell_type": "markdown",
   "metadata": {},
   "source": [
    "### 13.1  \n",
    "CKY Parser"
   ]
  },
  {
   "cell_type": "markdown",
   "metadata": {},
   "source": [
    "pyStatParser is from https://github.com/emilmont/pyStatParser"
   ]
  },
  {
   "cell_type": "markdown",
   "metadata": {},
   "source": [
    "To install it:  \n",
    "pip install git+https://github.com/emilmont/pyStatParser"
   ]
  },
  {
   "cell_type": "code",
   "execution_count": 141,
   "metadata": {},
   "outputs": [
    {
     "name": "stdout",
     "output_type": "stream",
     "text": [
      "(SBAR+S\n",
      "  (NP (PRP I))\n",
      "  (VP\n",
      "    (VBN shot)\n",
      "    (NP (DT an) (NN elephant))\n",
      "    (PP (IN in) (NP (PRP$ my) (NN pajamas)))))\n"
     ]
    }
   ],
   "source": [
    "from stat_parser import Parser, display_tree\n",
    "\n",
    "parser = Parser()\n",
    "\n",
    "tree = parser.parse(\"I shot an elephant in my pajamas\")\n",
    "\n",
    "print(tree)\n",
    "display_tree(tree)"
   ]
  },
  {
   "attachments": {
    "image.png": {
     "image/png": "[encoded data removed]"
    }
   },
   "cell_type": "markdown",
   "metadata": {},
   "source": [
    "![image.png](attachment:image.png)"
   ]
  },
  {
   "cell_type": "markdown",
   "metadata": {},
   "source": [
    "Using NLTK cky parser"
   ]
  },
  {
   "cell_type": "code",
   "execution_count": 138,
   "metadata": {},
   "outputs": [],
   "source": [
    "from nltk import Nonterminal, nonterminals, Production, CFG\n",
    "from nltk.parse import RecursiveDescentParser\n",
    "groucho_grammar = CFG.fromstring('''\n",
    "S -> NP VP\n",
    "PP -> P NP\n",
    "NP -> Det N\n",
    "NP -> Det N PP\n",
    "NP -> 'I'\n",
    "VP -> V NP\n",
    "VP -> VP PP\n",
    "Det -> 'an'\n",
    "Det -> 'my'\n",
    "N -> 'elephant'\n",
    "N -> 'pajamas'\n",
    "V -> 'shot'\n",
    "P -> 'in'\n",
    "''')"
   ]
  },
  {
   "cell_type": "code",
   "execution_count": 140,
   "metadata": {},
   "outputs": [
    {
     "name": "stdout",
     "output_type": "stream",
     "text": [
      "(S\n",
      "  (NP I)\n",
      "  (VP\n",
      "    (VP (V shot) (NP (Det an) (N elephant)))\n",
      "    (PP (P in) (NP (Det my) (N pajamas)))))\n",
      "(S\n",
      "  (NP I)\n",
      "  (VP\n",
      "    (V shot)\n",
      "    (NP (Det an) (N elephant) (PP (P in) (NP (Det my) (N pajamas))))))\n"
     ]
    }
   ],
   "source": [
    "sent = ['I', 'shot', 'an', 'elephant', 'in', 'my', 'pajamas']\n",
    "parser = nltk.ChartParser(groucho_grammar)\n",
    "for tree in parser.parse(sent):\n",
    "      print(tree)\n",
    "display_tree(tree)"
   ]
  },
  {
   "attachments": {
    "image.png": {
     "image/png": "[encoded data removed]"
    }
   },
   "cell_type": "markdown",
   "metadata": {},
   "source": [
    "![image.png](attachment:image.png)"
   ]
  },
  {
   "cell_type": "markdown",
   "metadata": {},
   "source": [
    "Try another sentence  \n",
    "'Book the cooks who cook the books'"
   ]
  },
  {
   "cell_type": "markdown",
   "metadata": {},
   "source": [
    "NLTK"
   ]
  },
  {
   "cell_type": "code",
   "execution_count": 155,
   "metadata": {},
   "outputs": [],
   "source": [
    "#input context-free grammar\n",
    "groucho_grammar = CFG.fromstring('''\n",
    "S -> VP NP\n",
    "VP -> TV NP\n",
    "TV -> 'Book'\n",
    "NP -> Det N\n",
    "Det -> 'the' N\n",
    "N -> 'cooks'\n",
    "NP -> N NP\n",
    "N -> 'who' TV\n",
    "TV -> 'cook'\n",
    "NP -> Det N\n",
    "Det -> 'the'\n",
    "N -> 'books'\n",
    "  ''')"
   ]
  },
  {
   "cell_type": "code",
   "execution_count": 156,
   "metadata": {},
   "outputs": [
    {
     "name": "stdout",
     "output_type": "stream",
     "text": [
      "(S\n",
      "  (VP (TV Book) (NP (Det the (N cooks)) (N who (TV cook))))\n",
      "  (NP (Det the) (N books)))\n",
      "(S\n",
      "  (VP (TV Book) (NP (Det the) (N cooks)))\n",
      "  (NP (N who (TV cook)) (NP (Det the) (N books))))\n"
     ]
    }
   ],
   "source": [
    "sent = ['Book', 'the','cooks', 'who', 'cook', 'the', 'books']\n",
    "parser = nltk.ChartParser(groucho_grammar)\n",
    "for tree in parser.parse(sent):\n",
    "      print(tree)\n",
    "display_tree(tree)"
   ]
  },
  {
   "attachments": {
    "image.png": {
     "image/png": "[encoded data removed]"
    }
   },
   "cell_type": "markdown",
   "metadata": {},
   "source": [
    "![image.png](attachment:image.png)"
   ]
  },
  {
   "cell_type": "markdown",
   "metadata": {},
   "source": [
    "pyStatParser "
   ]
  },
  {
   "cell_type": "code",
   "execution_count": 157,
   "metadata": {},
   "outputs": [
    {
     "name": "stdout",
     "output_type": "stream",
     "text": [
      "(S+NP\n",
      "  (NN book)\n",
      "  (NP (DT the) (NN cooks))\n",
      "  (SBAR (WHNP (WP who)) (S+VP (VBZ cook) (NP (DT the) (NNS books)))))\n"
     ]
    }
   ],
   "source": [
    "from stat_parser import Parser, display_tree\n",
    "\n",
    "parser = Parser()\n",
    "tree = parser.parse(\"Book the cooks who cook the books\")\n",
    "\n",
    "print(tree)\n",
    "display_tree(tree)"
   ]
  },
  {
   "attachments": {
    "image.png": {
     "image/png": "[encoded data removed]"
    }
   },
   "cell_type": "markdown",
   "metadata": {},
   "source": [
    "![image.png](attachment:image.png)"
   ]
  },
  {
   "cell_type": "markdown",
   "metadata": {},
   "source": [
    "Parse the longest sentence"
   ]
  },
  {
   "cell_type": "code",
   "execution_count": 158,
   "metadata": {},
   "outputs": [
    {
     "name": "stdout",
     "output_type": "stream",
     "text": [
      "*** Introductory Examples for the NLTK Book ***\n",
      "Loading text1, ..., text9 and sent1, ..., sent9\n",
      "Type the name of the text or sentence to view it.\n",
      "Type: 'texts()' or 'sents()' to list the materials.\n",
      "text1: Moby Dick by Herman Melville 1851\n",
      "text2: Sense and Sensibility by Jane Austen 1811\n",
      "text3: The Book of Genesis\n",
      "text4: Inaugural Address Corpus\n",
      "text5: Chat Corpus\n",
      "text6: Monty Python and the Holy Grail\n",
      "text7: Wall Street Journal\n",
      "text8: Personals Corpus\n",
      "text9: The Man Who Was Thursday by G . K . Chesterton 1908\n"
     ]
    }
   ],
   "source": [
    "import nltk \n",
    "from nltk.book import *\n",
    "import pprint\n",
    "sent_tokenizer=nltk.data.load('tokenizers/punkt/english.pickle')\n",
    "def findlongest(text):\n",
    "    #since we don't know how to convert the text object of nltk to string, we simply add all tokens togather to form a string.\n",
    "    a = text.tokens\n",
    "    text = ''\n",
    "    for i in a:\n",
    "        if i.isalpha():\n",
    "            text = text + ' '+i\n",
    "       \n",
    "        else:\n",
    "            text = text +i\n",
    "    sents = sent_tokenizer.tokenize(text)\n",
    "    lensent = []\n",
    "    for i in sents:\n",
    "        lensent.append(len(i.split()))\n",
    "    longest = sents[lensent.index(max(lensent))]\n",
    "    return longest"
   ]
  },
  {
   "cell_type": "code",
   "execution_count": 164,
   "metadata": {},
   "outputs": [],
   "source": [
    "#find longest sentence in text 9\n",
    "longe = findlongest(text9)"
   ]
  },
  {
   "cell_type": "markdown",
   "metadata": {},
   "source": [
    "Parse the longest sentence from text 9"
   ]
  },
  {
   "cell_type": "code",
   "execution_count": 169,
   "metadata": {},
   "outputs": [
    {
     "name": "stdout",
     "output_type": "stream",
     "text": [
      "(PRN+SBAR\n",
      "  (IN as)\n",
      "  (S\n",
      "    (NP (PRP I))\n",
      "    (VP\n",
      "      (PRN\n",
      "        (SINV\n",
      "          (VP (VBP say))\n",
      "          (, ,)\n",
      "          ('' '')\n",
      "          (VP (VBD resumed))\n",
      "          (S\n",
      "            (NP\n",
      "              (DT the)\n",
      "              (NNP Professor)\n",
      "              (, ,)\n",
      "              (PP (IN like) (NP (DT a) (NN man))))\n",
      "            (VP\n",
      "              (VBG toiling)\n",
      "              (PP (IN through) (NP (JJ heavy) (NN sand)))))\n",
      "          (, ,)\n",
      "          ('' '')\n",
      "          (S\n",
      "            (NP\n",
      "              (NP (DT the) (NN incident))\n",
      "              (SBAR\n",
      "                (WHNP (WDT that))\n",
      "                (S+VP\n",
      "                  (VBZ has)\n",
      "                  (VP (VBN occurred) (PP (TO to) (NP (PRP us)))))))\n",
      "            (VP\n",
      "              (CC and)\n",
      "              (VBZ has)\n",
      "              (VBD led)\n",
      "              (SBAR+S\n",
      "                (NP (PRP us))\n",
      "                (VP\n",
      "                  (TO to)\n",
      "                  (VB ask)\n",
      "                  (PP\n",
      "                    (IN for)\n",
      "                    (NP\n",
      "                      (NP (NN information))\n",
      "                      (PP (IN about) (NP (DT the) (NNP Marquis)))))))))\n",
      "          (, ,)\n",
      "          (VBZ is)\n",
      "          (NP\n",
      "            (NP (CD one))\n",
      "            (SBAR\n",
      "              (WHNP (WDT which))\n",
      "              (S\n",
      "                (NP (PRP you))\n",
      "                (VP\n",
      "                  (MD may)\n",
      "                  (VBP think)\n",
      "                  (SBAR+S\n",
      "                    (NP (PRP it))\n",
      "                    (VP\n",
      "                      (PRT (RBR better))\n",
      "                      (S+VP\n",
      "                        (TO to)\n",
      "                        (VP\n",
      "                          (VBP have)\n",
      "                          (UCP\n",
      "                            (VP (JJ narrated))\n",
      "                            (: ;)\n",
      "                            (CC but)\n",
      "                            (SBAR\n",
      "                              (IN as)\n",
      "                              (S\n",
      "                                (NP (PRP it))\n",
      "                                (VP\n",
      "                                  (VBD came)\n",
      "                                  (PP (IN in) (NP (DT the) (NN way)))\n",
      "                                  (PP\n",
      "                                    (IN of)\n",
      "                                    (NP (NNP Comrade) (NNP Syme))))))\n",
      "                            (RB rather)\n",
      "                            (SBAR\n",
      "                              (IN than)\n",
      "                              (S\n",
      "                                (NP (PRP me))\n",
      "                                (: --)\n",
      "                                ('' '')\n",
      "                                (NP (NNP His) (NNS words))\n",
      "                                (NP (PRP he))\n",
      "                                (VP\n",
      "                                  (VBD seemed)\n",
      "                                  (S+VP\n",
      "                                    (TO to)\n",
      "                                    (VP\n",
      "                                      (VB be)\n",
      "                                      (VBG dragging)\n",
      "                                      (PRT (RP out))\n",
      "                                      (PP\n",
      "                                        (IN like)\n",
      "                                        (NP\n",
      "                                          (NP (NNS words))\n",
      "                                          (PP\n",
      "                                            (IN in)\n",
      "                                            (NP (DT an) (NN anthem))))))))))\n",
      "                            (: ;)\n",
      "                            (CC but)\n",
      "                            (JJ Syme)))))))))))\n",
      "        (, ,))\n",
      "      (SBAR\n",
      "        (WHNP (WP who))\n",
      "        (S+VP\n",
      "          (VBD was)\n",
      "          (VBG watching)\n",
      "          (S\n",
      "            (, ,)\n",
      "            (VP\n",
      "              (VBD saw)\n",
      "              (SBAR+S\n",
      "                (NP (PRP$ his) (JJ long) (NN fingers))\n",
      "                (VP\n",
      "                  (VB rattle)\n",
      "                  (ADVP (RB quickly))\n",
      "                  (PP (IN on) (NP (DT the) (NN edge)))\n",
      "                  (PP (IN of) (NP (DT the) (JJ crazy) (NN table))))))\n",
      "            (. .)))))))\n"
     ]
    }
   ],
   "source": [
    "tree = parser.parse(longe)\n",
    "\n",
    "print(tree)\n",
    "#display_tree(tree)"
   ]
  },
  {
   "cell_type": "markdown",
   "metadata": {},
   "source": [
    "Parse the longest sentence from text 8"
   ]
  },
  {
   "cell_type": "code",
   "execution_count": 182,
   "metadata": {},
   "outputs": [
    {
     "name": "stdout",
     "output_type": "stream",
     "text": [
      "(SINV\n",
      "  (S\n",
      "    (NP (JJ single) (NN dad.42))\n",
      "    (, ,)\n",
      "    (NP (JJ East) (NN sub.5))\n",
      "    ('' '')\n",
      "    (NP (CD 9) (NNS seeks))\n",
      "    (VP (VB woman30+) (PP (IN for))))\n",
      "  (INTJ\n",
      "    (NN f/)\n",
      "    (NN ship)\n",
      "    (NN relationship)\n",
      "    (NN TALL)\n",
      "    (NN FAIR)\n",
      "    (NN HAIR)\n",
      "    (, ,)\n",
      "    (NN mid40))\n",
      "  ('' '')\n",
      "  (INTJ\n",
      "    (NN s)\n",
      "    (NN gent)\n",
      "    (, ,)\n",
      "    (NN affectionate/)\n",
      "    (NN loyal)\n",
      "    (, ,)\n",
      "    (NN seeks)\n",
      "    (NN lady35-45-)\n",
      "    (NN R/)\n",
      "    (NN ship)\n",
      "    (NN WANT)\n",
      "    (NN TO)\n",
      "    (NN BE)\n",
      "    (NN SPOILT)\n",
      "    (VB have)\n",
      "    (NN fun)\n",
      "    (, ,)\n",
      "    (VB be)\n",
      "    (RB sexy)\n",
      "    (JJ Warm))\n",
      "  (, ,)\n",
      "  (S\n",
      "    (NP\n",
      "      (JJ natural)\n",
      "      (NX\n",
      "        (NX (NNS sgl))\n",
      "        (NX (NNS DTE38yo))\n",
      "        (, ,)\n",
      "        (NX (NNS Prof.))\n",
      "        (NX (NNS seeks))\n",
      "        (JJ similar)\n",
      "        (NN lady)\n",
      "        (, ,)\n",
      "        (NX+NX\n",
      "          (JJ genuine)\n",
      "          (JJ fship/)\n",
      "          (JJ rship)\n",
      "          (JJ YOUNG)\n",
      "          (JJ attractive)\n",
      "          (JJ girls)\n",
      "          (NN under23))\n",
      "        (PP (VBN sought) (IN by) (NP (JJ good) (NN looking30s)))\n",
      "        (NX+NX\n",
      "          (JJ guy.39)\n",
      "          (JJ YR)\n",
      "          (JJ OLD)\n",
      "          (JJ male)\n",
      "          (JJ DTE)\n",
      "          (NN GSOH))\n",
      "        (PP\n",
      "          (VBG looking)\n",
      "          (IN for)\n",
      "          (NP (JJ lady) (JJ fun) (NNS times)))\n",
      "        (CC &)\n",
      "        (NX (NNS outings))))\n",
      "    (NP (DT A) (NN BUSINESSMAN47))\n",
      "    (NP (JJ seeks) (NN slim))\n",
      "    (VP\n",
      "      (VB attract)\n",
      "      (NP\n",
      "        (NP (JJ uni) (NN student))\n",
      "        (PP (IN for) (NP (JJ daytime) (NNS meetings))))))\n",
      "  (S\n",
      "    (NP (DT A) (NN FRIEND))\n",
      "    (, ,)\n",
      "    (NP (DT A) (NN LOVER))\n",
      "    (NP (NNP Self) (JJ employed) (NN single47))\n",
      "    (NP (JJ yo) (NN romantic))\n",
      "    (VP\n",
      "      (ADJP (JJ easy))\n",
      "      (S+VP (VBG going) (NP (JJ GSOH) (NN honest)))))\n",
      "  (NP\n",
      "    (NN reliable)\n",
      "    (S+VP\n",
      "      (VBG looking)\n",
      "      (TO to)\n",
      "      (VP (VB find) (NP (DT a) (NN friend)))))\n",
      "  (. .))\n"
     ]
    }
   ],
   "source": [
    "#find the longest sentence in text 8\n",
    "longe = findlongest(text8)\n",
    "tree1 = parser.parse(longe)\n",
    "\n",
    "print(tree1)\n",
    "#display_tree(tree)"
   ]
  },
  {
   "cell_type": "markdown",
   "metadata": {},
   "source": [
    "Parser trained by different gramma rules will give different result. Such as, pyStatParser trained by QuestionBank and Penn treebanks, and NLTK learned the gramma rule which I created. So it will output different results but similar patterns."
   ]
  }
 ],
 "metadata": {
  "kernelspec": {
   "display_name": "Python 3",
   "language": "python",
   "name": "python3"
  },
  "language_info": {
   "codemirror_mode": {
    "name": "ipython",
    "version": 3
   },
   "file_extension": ".py",
   "mimetype": "text/x-python",
   "name": "python",
   "nbconvert_exporter": "python",
   "pygments_lexer": "ipython3",
   "version": "3.6.5"
  }
 },
 "nbformat": 4,
 "nbformat_minor": 2
}
