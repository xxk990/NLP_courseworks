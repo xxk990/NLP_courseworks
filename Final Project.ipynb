{
 "cells": [
  {
   "cell_type": "markdown",
   "metadata": {},
   "source": [
    "### Final project  \n",
    "Assignment Group 12  \n",
    "Ke Xu  \n",
    "Fangzhou Liu  "
   ]
  },
  {
   "cell_type": "markdown",
   "metadata": {},
   "source": [
    "We did 5.14 and 5.34 for this final project."
   ]
  },
  {
   "cell_type": "markdown",
   "metadata": {},
   "source": [
    "## 5.14"
   ]
  },
  {
   "cell_type": "markdown",
   "metadata": {},
   "source": [
    "Use sorted() and set() to get a sorted list of tags used in the Brown corpus, removing duplicates."
   ]
  },
  {
   "cell_type": "code",
   "execution_count": 174,
   "metadata": {
    "scrolled": true
   },
   "outputs": [
    {
     "name": "stdout",
     "output_type": "stream",
     "text": [
      "[\"'\", \"''\", '(', '(-HL', ')', ')-HL', '*', '*-HL', '*-NC', '*-TL', ',', ',-HL', ',-NC', ',-TL', '--', '---HL', '.', '.-HL', '.-NC', '.-TL', ':', ':-HL', ':-TL', 'ABL', 'ABN', 'ABN-HL', 'ABN-NC', 'ABN-TL', 'ABX', 'AP', 'AP$', 'AP+AP-NC', 'AP-HL', 'AP-NC', 'AP-TL', 'AT', 'AT-HL', 'AT-NC', 'AT-TL', 'AT-TL-HL', 'BE', 'BE-HL', 'BE-TL', 'BED', 'BED*', 'BED-NC', 'BEDZ', 'BEDZ*', 'BEDZ-HL', 'BEDZ-NC', 'BEG', 'BEM', 'BEM*', 'BEM-NC', 'BEN', 'BEN-TL', 'BER', 'BER*', 'BER*-NC', 'BER-HL', 'BER-NC', 'BER-TL', 'BEZ', 'BEZ*', 'BEZ-HL', 'BEZ-NC', 'BEZ-TL', 'CC', 'CC-HL', 'CC-NC', 'CC-TL', 'CC-TL-HL', 'CD', 'CD$', 'CD-HL', 'CD-NC', 'CD-TL', 'CD-TL-HL', 'CS', 'CS-HL', 'CS-NC', 'CS-TL', 'DO', 'DO*', 'DO*-HL', 'DO+PPSS', 'DO-HL', 'DO-NC', 'DO-TL', 'DOD', 'DOD*', 'DOD*-TL', 'DOD-NC', 'DOZ', 'DOZ*', 'DOZ*-TL', 'DOZ-HL', 'DOZ-TL', 'DT', 'DT$', 'DT+BEZ', 'DT+BEZ-NC', 'DT+MD', 'DT-HL', 'DT-NC', 'DT-TL', 'DTI', 'DTI-HL', 'DTI-TL', 'DTS', 'DTS+BEZ', 'DTS-HL', 'DTX', 'EX', 'EX+BEZ', 'EX+HVD', 'EX+HVZ', 'EX+MD', 'EX-HL', 'EX-NC', 'FW-*', 'FW-*-TL', 'FW-AT', 'FW-AT+NN-TL', 'FW-AT+NP-TL', 'FW-AT-HL', 'FW-AT-TL', 'FW-BE', 'FW-BER', 'FW-BEZ', 'FW-CC', 'FW-CC-TL', 'FW-CD', 'FW-CD-TL', 'FW-CS', 'FW-DT', 'FW-DT+BEZ', 'FW-DTS', 'FW-HV', 'FW-IN', 'FW-IN+AT', 'FW-IN+AT-T', 'FW-IN+AT-TL', 'FW-IN+NN', 'FW-IN+NN-TL', 'FW-IN+NP-TL', 'FW-IN-TL', 'FW-JJ', 'FW-JJ-NC', 'FW-JJ-TL', 'FW-JJR', 'FW-JJT', 'FW-NN', 'FW-NN$', 'FW-NN$-TL', 'FW-NN-NC', 'FW-NN-TL', 'FW-NN-TL-NC', 'FW-NNS', 'FW-NNS-NC', 'FW-NNS-TL', 'FW-NP', 'FW-NP-TL', 'FW-NPS', 'FW-NPS-TL', 'FW-NR', 'FW-NR-TL', 'FW-OD-NC', 'FW-OD-TL', 'FW-PN', 'FW-PP$', 'FW-PP$-NC', 'FW-PP$-TL', 'FW-PPL', 'FW-PPL+VBZ', 'FW-PPO', 'FW-PPO+IN', 'FW-PPS', 'FW-PPSS', 'FW-PPSS+HV', 'FW-QL', 'FW-RB', 'FW-RB+CC', 'FW-RB-TL', 'FW-TO+VB', 'FW-UH', 'FW-UH-NC', 'FW-UH-TL', 'FW-VB', 'FW-VB-NC', 'FW-VB-TL', 'FW-VBD', 'FW-VBD-TL', 'FW-VBG', 'FW-VBG-TL', 'FW-VBN', 'FW-VBZ', 'FW-WDT', 'FW-WPO', 'FW-WPS', 'HV', 'HV*', 'HV+TO', 'HV-HL', 'HV-NC', 'HV-TL', 'HVD', 'HVD*', 'HVD-HL', 'HVG', 'HVG-HL', 'HVN', 'HVZ', 'HVZ*', 'HVZ-NC', 'HVZ-TL', 'IN', 'IN+IN', 'IN+PPO', 'IN-HL', 'IN-NC', 'IN-TL', 'IN-TL-HL', 'JJ', 'JJ$-TL', 'JJ+JJ-NC', 'JJ-HL', 'JJ-NC', 'JJ-TL', 'JJ-TL-HL', 'JJ-TL-NC', 'JJR', 'JJR+CS', 'JJR-HL', 'JJR-NC', 'JJR-TL', 'JJS', 'JJS-HL', 'JJS-TL', 'JJT', 'JJT-HL', 'JJT-NC', 'JJT-TL', 'MD', 'MD*', 'MD*-HL', 'MD+HV', 'MD+PPSS', 'MD+TO', 'MD-HL', 'MD-NC', 'MD-TL', 'NIL', 'NN', 'NN$', 'NN$-HL', 'NN$-TL', 'NN+BEZ', 'NN+BEZ-TL', 'NN+HVD-TL', 'NN+HVZ', 'NN+HVZ-TL', 'NN+IN', 'NN+MD', 'NN+NN-NC', 'NN-HL', 'NN-NC', 'NN-TL', 'NN-TL-HL', 'NN-TL-NC', 'NNS', 'NNS$', 'NNS$-HL', 'NNS$-NC', 'NNS$-TL', 'NNS$-TL-HL', 'NNS+MD', 'NNS-HL', 'NNS-NC', 'NNS-TL', 'NNS-TL-HL', 'NNS-TL-NC', 'NP', 'NP$', 'NP$-HL', 'NP$-TL', 'NP+BEZ', 'NP+BEZ-NC', 'NP+HVZ', 'NP+HVZ-NC', 'NP+MD', 'NP-HL', 'NP-NC', 'NP-TL', 'NP-TL-HL', 'NPS', 'NPS$', 'NPS$-HL', 'NPS$-TL', 'NPS-HL', 'NPS-NC', 'NPS-TL', 'NR', 'NR$', 'NR$-TL', 'NR+MD', 'NR-HL', 'NR-NC', 'NR-TL', 'NR-TL-HL', 'NRS', 'NRS-TL', 'OD', 'OD-HL', 'OD-NC', 'OD-TL', 'PN', 'PN$', 'PN+BEZ', 'PN+HVD', 'PN+HVZ', 'PN+MD', 'PN-HL', 'PN-NC', 'PN-TL', 'PP$', 'PP$$', 'PP$-HL', 'PP$-NC', 'PP$-TL', 'PPL', 'PPL-HL', 'PPL-NC', 'PPL-TL', 'PPLS', 'PPO', 'PPO-HL', 'PPO-NC', 'PPO-TL', 'PPS', 'PPS+BEZ', 'PPS+BEZ-HL', 'PPS+BEZ-NC', 'PPS+HVD', 'PPS+HVZ', 'PPS+MD', 'PPS-HL', 'PPS-NC', 'PPS-TL', 'PPSS', 'PPSS+BEM', 'PPSS+BER', 'PPSS+BER-N', 'PPSS+BER-NC', 'PPSS+BER-TL', 'PPSS+BEZ', 'PPSS+BEZ*', 'PPSS+HV', 'PPSS+HV-TL', 'PPSS+HVD', 'PPSS+MD', 'PPSS+MD-NC', 'PPSS+VB', 'PPSS-HL', 'PPSS-NC', 'PPSS-TL', 'QL', 'QL-HL', 'QL-NC', 'QL-TL', 'QLP', 'RB', 'RB$', 'RB+BEZ', 'RB+BEZ-HL', 'RB+BEZ-NC', 'RB+CS', 'RB-HL', 'RB-NC', 'RB-TL', 'RBR', 'RBR+CS', 'RBR-NC', 'RBT', 'RN', 'RP', 'RP+IN', 'RP-HL', 'RP-NC', 'RP-TL', 'TO', 'TO+VB', 'TO-HL', 'TO-NC', 'TO-TL', 'UH', 'UH-HL', 'UH-NC', 'UH-TL', 'VB', 'VB+AT', 'VB+IN', 'VB+JJ-NC', 'VB+PPO', 'VB+RP', 'VB+TO', 'VB+VB-NC', 'VB-HL', 'VB-NC', 'VB-TL', 'VBD', 'VBD-HL', 'VBD-NC', 'VBD-TL', 'VBG', 'VBG+TO', 'VBG-HL', 'VBG-NC', 'VBG-TL', 'VBN', 'VBN+TO', 'VBN-HL', 'VBN-NC', 'VBN-TL', 'VBN-TL-HL', 'VBN-TL-NC', 'VBZ', 'VBZ-HL', 'VBZ-NC', 'VBZ-TL', 'WDT', 'WDT+BER', 'WDT+BER+PP', 'WDT+BEZ', 'WDT+BEZ-HL', 'WDT+BEZ-NC', 'WDT+BEZ-TL', 'WDT+DO+PPS', 'WDT+DOD', 'WDT+HVZ', 'WDT-HL', 'WDT-NC', 'WP$', 'WPO', 'WPO-NC', 'WPO-TL', 'WPS', 'WPS+BEZ', 'WPS+BEZ-NC', 'WPS+BEZ-TL', 'WPS+HVD', 'WPS+HVZ', 'WPS+MD', 'WPS-HL', 'WPS-NC', 'WPS-TL', 'WQL', 'WQL-TL', 'WRB', 'WRB+BER', 'WRB+BEZ', 'WRB+BEZ-TL', 'WRB+DO', 'WRB+DOD', 'WRB+DOD*', 'WRB+DOZ', 'WRB+IN', 'WRB+MD', 'WRB-HL', 'WRB-NC', 'WRB-TL', '``']\n"
     ]
    }
   ],
   "source": [
    "from nltk.corpus import brown\n",
    "#Find all tags\n",
    "tags = brown.tagged_words()\n",
    "#remove duplicates of all (word, tag)\n",
    "tags_sor1 = set(tags)\n",
    "\n",
    "result_tag = []\n",
    "#remove duplicates of all tags\n",
    "for (key, value) in tags_sor1:\n",
    "    result_tag.append(value)\n",
    "result = sorted(set(result_tag))\n",
    "\n",
    "#print the result\n",
    "print(result)"
   ]
  },
  {
   "cell_type": "markdown",
   "metadata": {},
   "source": [
    "## 5.34"
   ]
  },
  {
   "cell_type": "markdown",
   "metadata": {},
   "source": [
    "There are 264 distinct words in the Brown Corpus having exactly three possible tags.  \n",
    "a. Print a table with the integers 1..10 in one column, and the number of distinct\n",
    "words in the corpus having 1..10 distinct tags in the other column.\n"
   ]
  },
  {
   "cell_type": "code",
   "execution_count": 137,
   "metadata": {},
   "outputs": [
    {
     "name": "stdout",
     "output_type": "stream",
     "text": [
      "1 \t 47328\n",
      "2 \t 7186\n",
      "3 \t 1146\n",
      "4 \t 265\n",
      "5 \t 87\n",
      "6 \t 27\n",
      "7 \t 12\n",
      "8 \t 1\n",
      "9 \t 1\n",
      "10 \t 2\n"
     ]
    }
   ],
   "source": [
    "import nltk\n",
    "from nltk.corpus import brown\n",
    "\n",
    "tags = brown.tagged_words()\n",
    "tags_word = nltk.ConditionalFreqDist(tags)\n",
    "\n",
    "#count the tags of each word\n",
    "num_tags = []\n",
    "for i in tags_word.conditions():\n",
    "    num_tags.append(len(tags_word[i]))\n",
    "\n",
    "#count the number of word in each number of tags category(1 to 10)\n",
    "num_tags1 = []\n",
    "for i in range(10):\n",
    "    total = 0\n",
    "    for l in num_tags:\n",
    "        if l == i+1:\n",
    "            total += 1\n",
    "    num_tags1.append((i+1, total))\n",
    "\n",
    "# print the table\n",
    "for (i, total) in num_tags1:\n",
    "    print(i,'\\t', total)"
   ]
  },
  {
   "cell_type": "markdown",
   "metadata": {},
   "source": [
    "b. For the word with the greatest number of distinct tags, print out sentences\n",
    "from the corpus containing the word, one for each possible tag.\n"
   ]
  },
  {
   "cell_type": "code",
   "execution_count": 138,
   "metadata": {},
   "outputs": [
    {
     "name": "stdout",
     "output_type": "stream",
     "text": [
      "The word has 10 tags: \n",
      "['in', 'to']\n"
     ]
    }
   ],
   "source": [
    "words = []\n",
    "# the greatest number of distinct tags is 10, and it has two words\n",
    "for condition in tags_word.conditions():\n",
    "    if len(tags_word[condition]) == 10:\n",
    "        words.append(condition)\n",
    "print('The word has 10 tags: ')\n",
    "print(words)"
   ]
  },
  {
   "cell_type": "code",
   "execution_count": 155,
   "metadata": {
    "scrolled": true
   },
   "outputs": [
    {
     "name": "stdout",
     "output_type": "stream",
     "text": [
      "Word:in\t Tags: ['IN', 'RP', 'IN-HL', 'IN-TL', 'IN-NC', 'RP-HL', 'NN', 'NIL', 'RP-NC', 'FW-IN']\n",
      "Word:to\t Tags: ['TO', 'IN', 'IN-HL', 'TO-HL', 'IN-TL', 'NPS', 'NIL', 'QL', 'TO-NC', 'IN-NC']\n"
     ]
    }
   ],
   "source": [
    "#find these two words' tags\n",
    "distinct_tags1 = []\n",
    "distinct_tags2 = []\n",
    "for i in cfd[words[0]]:\n",
    "    distinct_tags1.append(i)\n",
    "for i in cfd[words[1]]:\n",
    "    distinct_tags2.append(i)\n",
    "print('Word:'+words[0]+'\\t','Tags:',distinct_tags1)\n",
    "print('Word:'+words[1]+'\\t','Tags:',distinct_tags2)"
   ]
  },
  {
   "cell_type": "markdown",
   "metadata": {},
   "source": [
    "Print the sentence of each tag of word 'in'"
   ]
  },
  {
   "cell_type": "code",
   "execution_count": 140,
   "metadata": {},
   "outputs": [
    {
     "name": "stdout",
     "output_type": "stream",
     "text": [
      "word:in\t tag: IN\n",
      "The jury further said in term-end presentments that the City Executive Committee , which had over-all charge of the election , `` deserves the praise and thanks of the City of Atlanta '' for the manner in which the election was conducted . \n",
      "\n",
      "\n",
      "word:in\t tag: RP\n",
      "The President , in a special message to Congress , tied in with his aged care plan requests for large federal grants to finance medical and dental scholarships , build 20 new medical and 20 new dental schools , and expand child health care and general medical research . \n",
      "\n",
      "\n",
      "word:in\t tag: IN-HL\n",
      "Tactics studied in Geneva \n",
      "\n",
      "\n",
      "word:in\t tag: IN-TL\n",
      "`` A Night in New Orleans '' is the gayety planned by members of the Thrift Shop Committee for May 6 at Philmont Country Club . \n",
      "\n",
      "\n",
      "word:in\t tag: IN-NC\n",
      "Suggest the following twenty-first-century amendment : By moving the term `` Republic '' to lower case , substituting the modern phrase , `` move ahead '' for the stodgy `` keep '' , and by using the Postmaster's name on every envelope ( in caps , of course , with the `` in spite '' as faded as possible ) , the slogan cannot fail . \n",
      "\n",
      "\n",
      "word:in\t tag: RP-HL\n",
      "To sew in sleeves : \n",
      "\n",
      "\n",
      "word:in\t tag: NN\n",
      "Promoters always hastened to place their choice tickets in the hands of the wealthy speculators , and only the man who knew the man who knew the fellow who had an in with the guy at the box office ever came up with a good seat for a contest of any importance . \n",
      "\n",
      "\n",
      "word:in\t tag: NIL\n",
      "As the field on which my tent was pitched was a favorite natural playground for the kids of the neighborhood , I had made many friends among them , taking part in their after-school games and trying desperately to translate Grimm's Fairy Tales into an understandable French as we gathered around the fire in front of the tent . \n",
      "\n",
      "\n",
      "word:in\t tag: RP-NC\n",
      "In she has it in for George dominant stress will ordinarily be on in , where the notion of stored-up antipathy seems to center . \n",
      "\n",
      "\n",
      "word:in\t tag: FW-IN\n",
      "Maybe it's nothing , maybe it's intraepithelial or in situ -- can't take any chances '' . \n",
      "\n",
      "\n"
     ]
    }
   ],
   "source": [
    "#find all tagged sentence in brown\n",
    "tagged_sents = brown.tagged_sents()\n",
    "\n",
    "#For the word with the greatest number of distinct tags, print out sentences from the corpus containing the word, one for each possible tag.\n",
    "for sent in tagged_sents:\n",
    "    for (word, tag) in sent:\n",
    "        for distinct_tag in distinct_tags1:\n",
    "            if distinct_tag == tag and word == words[0]:\n",
    "                print('word:'+words[0]+'\\t', 'tag: '+distinct_tag)\n",
    "                S = ''\n",
    "                \n",
    "                #we only need one sentence. remove one tag per loop\n",
    "                distinct_tags1.remove(distinct_tag)\n",
    "                \n",
    "                #combine those tagged words to a sentence\n",
    "                for (word1, tag1) in sent:\n",
    "                    S = S + word1 + ' '\n",
    "                print(S)\n",
    "                print()\n",
    "                print()\n",
    "                break"
   ]
  },
  {
   "cell_type": "markdown",
   "metadata": {},
   "source": [
    "Print the sentence of each tag of word 'to'"
   ]
  },
  {
   "cell_type": "code",
   "execution_count": 156,
   "metadata": {},
   "outputs": [
    {
     "name": "stdout",
     "output_type": "stream",
     "text": [
      "word:to\t tag: TO\n",
      "The September-October term jury had been charged by Fulton Superior Court Judge Durwood Pye to investigate reports of possible `` irregularities '' in the hard-fought primary which was won by Mayor-nominate Ivan Allen Jr. . \n",
      "\n",
      "\n",
      "word:to\t tag: IN\n",
      "It recommended that Fulton legislators act `` to have these laws studied and revised to the end of modernizing and improving them '' . \n",
      "\n",
      "\n",
      "word:to\t tag: IN-HL\n",
      "Cost up to $37 a year \n",
      "\n",
      "\n",
      "word:to\t tag: TO-HL\n",
      "Three groups to meet \n",
      "\n",
      "\n",
      "word:to\t tag: IN-TL\n",
      "On the clock given him was the inscription , `` For Outstanding Contribution to Billiken Basketball , 1960-61 '' . \n",
      "\n",
      "\n",
      "word:to\t tag: NPS\n",
      "Also noted are the marriages of Elizabeth Browning , daughter of the George L. Brownings , to Austin C. Smith Jr. ; ; \n",
      "\n",
      "\n",
      "word:to\t tag: NIL\n",
      "As the field on which my tent was pitched was a favorite natural playground for the kids of the neighborhood , I had made many friends among them , taking part in their after-school games and trying desperately to translate Grimm's Fairy Tales into an understandable French as we gathered around the fire in front of the tent . \n",
      "\n",
      "\n",
      "word:to\t tag: QL\n",
      "He suggested offering half to Sir Edward , fearing lest `` he shall thinke it to good for us and procure it for himselfe , as he served us the last time '' . \n",
      "\n",
      "\n",
      "word:to\t tag: TO-NC\n",
      "Or an `` I want to go home '' , or whatever -- but a nonverbal one which reveals itself , gradually , as the condensed expression of more than one latent meaning . \n",
      "\n",
      "\n",
      "word:to\t tag: IN-NC\n",
      "When go represents itself and a complement ( being equivalent , say , to go to Martinique ) in which boat did Jack go on ? ? \n",
      "\n",
      "\n"
     ]
    }
   ],
   "source": [
    "#For the word with the greatest number of distinct tags, print out sentences from the corpus containing the word, one for each possible tag.\n",
    "for sent in tagged_sents:\n",
    "    for (word, tag) in sent:\n",
    "        for distinct_tag in distinct_tags2:\n",
    "            if distinct_tag == tag and word == words[1]:\n",
    "                print('word:'+words[1]+'\\t', 'tag: '+distinct_tag)\n",
    "                S = ''\n",
    "                \n",
    "                #we only need one sentence. remove one tag per loop\n",
    "                distinct_tags2.remove(distinct_tag)\n",
    "                \n",
    "                #combine those tagged words to a sentence\n",
    "                for (word1, tag1) in sent:\n",
    "                    S = S + word1 + ' '\n",
    "                print(S)\n",
    "                print()\n",
    "                print()\n",
    "                break"
   ]
  }
 ],
 "metadata": {
  "kernelspec": {
   "display_name": "Python 3",
   "language": "python",
   "name": "python3"
  },
  "language_info": {
   "codemirror_mode": {
    "name": "ipython",
    "version": 3
   },
   "file_extension": ".py",
   "mimetype": "text/x-python",
   "name": "python",
   "nbconvert_exporter": "python",
   "pygments_lexer": "ipython3",
   "version": "3.6.5"
  }
 },
 "nbformat": 4,
 "nbformat_minor": 2
}
